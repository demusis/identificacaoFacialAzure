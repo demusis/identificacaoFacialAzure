{
 "cells": [
  {
   "cell_type": "code",
   "execution_count": 1,
   "metadata": {},
   "outputs": [],
   "source": [
    "# Chave da API no Azure\n",
    "subscription_key = 'ab2d5fffc2a564285aba72cbe0a11e2f6'"
   ]
  },
  {
   "cell_type": "code",
   "execution_count": 2,
   "metadata": {},
   "outputs": [],
   "source": [
    "import urllib.parse, http.client, json\n",
    "\n",
    "cabecalho = {\n",
    "    'Ocp-Apim-Subscription-Key':subscription_key,\n",
    "    'Content-Type':'application/json'\n",
    "}"
   ]
  },
  {
   "cell_type": "markdown",
   "metadata": {},
   "source": [
    "# Cria uma faceId para uma face qualquer (Bill gates)"
   ]
  },
  {
   "cell_type": "code",
   "execution_count": 26,
   "metadata": {},
   "outputs": [
    {
     "name": "stdout",
     "output_type": "stream",
     "text": [
      "da0b71e5-f740-4d2b-b9e4-f4f544d1a7ac\n",
      "[\n",
      "  {\n",
      "    \"faceAttributes\": {\n",
      "      \"accessories\": [\n",
      "        {\n",
      "          \"confidence\": 0.98,\n",
      "          \"type\": \"glasses\"\n",
      "        }\n",
      "      ],\n",
      "      \"age\": 57.0,\n",
      "      \"gender\": \"male\",\n",
      "      \"glasses\": \"ReadingGlasses\",\n",
      "      \"makeup\": {\n",
      "        \"eyeMakeup\": false,\n",
      "        \"lipMakeup\": false\n",
      "      },\n",
      "      \"smile\": 1.0\n",
      "    },\n",
      "    \"faceId\": \"da0b71e5-f740-4d2b-b9e4-f4f544d1a7ac\",\n",
      "    \"faceLandmarks\": {\n",
      "      \"eyeLeftBottom\": {\n",
      "        \"x\": 430.1,\n",
      "        \"y\": 593.2\n",
      "      },\n",
      "      \"eyeLeftInner\": {\n",
      "        \"x\": 491.4,\n",
      "        \"y\": 581.4\n",
      "      },\n",
      "      \"eyeLeftOuter\": {\n",
      "        \"x\": 370.6,\n",
      "        \"y\": 580.6\n",
      "      },\n",
      "      \"eyeLeftTop\": {\n",
      "        \"x\": 430.1,\n",
      "        \"y\": 551.6\n",
      "      },\n",
      "      \"eyeRightBottom\": {\n",
      "        \"x\": 766.3,\n",
      "        \"y\": 584.9\n",
      "      },\n",
      "      \"eyeRightInner\": {\n",
      "        \"x\": 699.6,\n",
      "        \"y\": 575.5\n",
      "      },\n",
      "      \"eyeRightOuter\": {\n",
      "        \"x\": 824.6,\n",
      "        \"y\": 561.7\n",
      "      },\n",
      "      \"eyeRightTop\": {\n",
      "        \"x\": 761.3,\n",
      "        \"y\": 536.1\n",
      "      },\n",
      "      \"eyebrowLeftInner\": {\n",
      "        \"x\": 518.6,\n",
      "        \"y\": 529.1\n",
      "      },\n",
      "      \"eyebrowLeftOuter\": {\n",
      "        \"x\": 282.4,\n",
      "        \"y\": 507.4\n",
      "      },\n",
      "      \"eyebrowRightInner\": {\n",
      "        \"x\": 667.4,\n",
      "        \"y\": 519.6\n",
      "      },\n",
      "      \"eyebrowRightOuter\": {\n",
      "        \"x\": 909.3,\n",
      "        \"y\": 486.9\n",
      "      },\n",
      "      \"mouthLeft\": {\n",
      "        \"x\": 425.6,\n",
      "        \"y\": 894.2\n",
      "      },\n",
      "      \"mouthRight\": {\n",
      "        \"x\": 790.5,\n",
      "        \"y\": 882.5\n",
      "      },\n",
      "      \"noseLeftAlarOutTip\": {\n",
      "        \"x\": 488.0,\n",
      "        \"y\": 771.0\n",
      "      },\n",
      "      \"noseLeftAlarTop\": {\n",
      "        \"x\": 522.6,\n",
      "        \"y\": 714.6\n",
      "      },\n",
      "      \"noseRightAlarOutTip\": {\n",
      "        \"x\": 721.3,\n",
      "        \"y\": 755.2\n",
      "      },\n",
      "      \"noseRightAlarTop\": {\n",
      "        \"x\": 677.9,\n",
      "        \"y\": 703.7\n",
      "      },\n",
      "      \"noseRootLeft\": {\n",
      "        \"x\": 543.2,\n",
      "        \"y\": 592.6\n",
      "      },\n",
      "      \"noseRootRight\": {\n",
      "        \"x\": 655.0,\n",
      "        \"y\": 586.3\n",
      "      },\n",
      "      \"noseTip\": {\n",
      "        \"x\": 603.5,\n",
      "        \"y\": 779.8\n",
      "      },\n",
      "      \"pupilLeft\": {\n",
      "        \"x\": 429.4,\n",
      "        \"y\": 576.4\n",
      "      },\n",
      "      \"pupilRight\": {\n",
      "        \"x\": 764.6,\n",
      "        \"y\": 560.9\n",
      "      },\n",
      "      \"underLipBottom\": {\n",
      "        \"x\": 620.4,\n",
      "        \"y\": 1007.1\n",
      "      },\n",
      "      \"underLipTop\": {\n",
      "        \"x\": 617.2,\n",
      "        \"y\": 955.7\n",
      "      },\n",
      "      \"upperLipBottom\": {\n",
      "        \"x\": 617.5,\n",
      "        \"y\": 905.0\n",
      "      },\n",
      "      \"upperLipTop\": {\n",
      "        \"x\": 612.6,\n",
      "        \"y\": 880.8\n",
      "      }\n",
      "    },\n",
      "    \"faceRectangle\": {\n",
      "      \"height\": 747,\n",
      "      \"left\": 228,\n",
      "      \"top\": 357,\n",
      "      \"width\": 747\n",
      "    }\n",
      "  }\n",
      "]\n"
     ]
    }
   ],
   "source": [
    "body = {\n",
    "    'url':'https://www.biography.com/.image/t_share/MTIwNjA4NjMzODIyNjc2NDky/bill-gates-9307520-1-402.jpg' # Bill Gates\n",
    "}\n",
    "\n",
    "params = urllib.parse.urlencode({\n",
    "    'returnFaceId':True,\n",
    "    'returnFaceLandmarks':True,\n",
    "    'returnFaceAttributes':'age,gender,makeup,smile,glasses,accessories'\n",
    "})\n",
    "\n",
    "url = 'idfaceapi.cognitiveservices.azure.com'\n",
    "\n",
    "endpoint = '/face/v1.0/detect?%s'\n",
    "\n",
    "try:\n",
    "    conn = http.client.HTTPSConnection(url)\n",
    "    conn.request('POST', endpoint % params, str(body), cabecalho)\n",
    "    response = conn.getresponse()\n",
    "    jsonData = response.read()\n",
    "    data = json.loads(jsonData)\n",
    "    bill_gates_face_id = data[0]['faceId'] \n",
    "    print(bill_gates_face_id) # Apresenta o faceId da imagem do Bill Gates.\n",
    "    print(json.dumps(data, sort_keys=True, indent=2))\n",
    "    conn.close()\n",
    "except Exception as ex:\n",
    "    print(ex)"
   ]
  },
  {
   "cell_type": "markdown",
   "metadata": {},
   "source": [
    "# Cria grupo"
   ]
  },
  {
   "cell_type": "code",
   "execution_count": 5,
   "metadata": {},
   "outputs": [
    {
     "name": "stdout",
     "output_type": "stream",
     "text": [
      "b''\n"
     ]
    }
   ],
   "source": [
    "grupo_id = 'grupo_pessoas'\n",
    "\n",
    "grupo_corpo = {\n",
    "    'name':'Grupo de pessoas'\n",
    "}\n",
    "\n",
    "try:\n",
    "    conn = http.client.HTTPSConnection('idfaceapi.cognitiveservices.azure.com')\n",
    "    conn.request('PUT', '/face/v1.0/persongroups/%s' % grupo_id, str(grupo_corpo), cabecalho)\n",
    "    response = conn.getresponse()\n",
    "    data = response.read()\n",
    "    print(data)\n",
    "    conn.close()\n",
    "except Exception as ex:\n",
    "    print(ex)"
   ]
  },
  {
   "cell_type": "markdown",
   "metadata": {},
   "source": [
    "# Adicionando pessoas ao grupo"
   ]
  },
  {
   "cell_type": "code",
   "execution_count": 20,
   "metadata": {},
   "outputs": [
    {
     "name": "stdout",
     "output_type": "stream",
     "text": [
      "{'personId': 'ef263804-9976-456e-9554-2e1c39d2bde2'}\n"
     ]
    }
   ],
   "source": [
    "# Cria pessoa.\n",
    "pessoa_corpo = {\n",
    "    'name':'Elizabeth'\n",
    "}\n",
    "\n",
    "pessoa_endpoint = '/face/v1.0/persongroups/{0}/persons'.format(grupo_id)\n",
    "\n",
    "try:\n",
    "    conn = http.client.HTTPSConnection('idfaceapi.cognitiveservices.azure.com')\n",
    "    conn.request('POST', pessoa_endpoint, str(pessoa_corpo), cabecalho)\n",
    "    response = conn.getresponse()\n",
    "    jsonData = response.read()\n",
    "    data = json.loads(jsonData)\n",
    "    print(data)\n",
    "    conn.close()\n",
    "except Exception as ex:\n",
    "    print(ex)"
   ]
  },
  {
   "cell_type": "markdown",
   "metadata": {},
   "source": [
    "Processei o código acima 3 vezes, de modo a criar as pessoas Angela, Bill e Elizabeth."
   ]
  },
  {
   "cell_type": "code",
   "execution_count": 23,
   "metadata": {},
   "outputs": [
    {
     "name": "stdout",
     "output_type": "stream",
     "text": [
      "[{'personId': 'ab9243d6-97bb-40a2-9ad7-7f9166fc1c71', 'persistedFaceIds': ['962828cd-c7aa-4cb3-b151-c17b7a04464d', 'e80923d6-8865-4676-84c0-d953a0ad0fc3', 'f456604b-a4be-4eb8-9680-6398a2aafb97'], 'name': 'Bill'}, {'personId': 'b36c4ad4-26d9-4f6d-860e-4d64df30174b', 'persistedFaceIds': ['002ce8d2-42df-4082-8dcb-78eebe12b667', '87b74572-1190-4ecd-88de-0c5a020409db', 'c39279d6-4fd7-4faf-b3af-3a5f3d20a198'], 'name': 'Angela'}, {'personId': 'ef263804-9976-456e-9554-2e1c39d2bde2', 'persistedFaceIds': ['1affc4b1-a428-4ba0-87ee-57f232596be9', '278ca2a5-aab9-46d9-a229-5c0d1da026fd', 'ec607745-2cb5-4ccd-b40b-b7d7d6d2ea94'], 'name': 'Elizabeth'}]\n"
     ]
    }
   ],
   "source": [
    "# Lista pessoas do grupo.\n",
    "try:\n",
    "    conn = http.client.HTTPSConnection('idfaceapi.cognitiveservices.azure.com')\n",
    "    conn.request('GET', pessoa_endpoint, \"\", cabecalho)\n",
    "    response = conn.getresponse()\n",
    "    jsonData = response.read()\n",
    "    pessoas_dados = json.loads(jsonData)\n",
    "    print(pessoas_dados)\n",
    "    conn.close()\n",
    "except Exception as ex:\n",
    "    print(ex)"
   ]
  },
  {
   "cell_type": "markdown",
   "metadata": {},
   "source": [
    "# Adicionando faces a pessoas"
   ]
  },
  {
   "cell_type": "code",
   "execution_count": 19,
   "metadata": {},
   "outputs": [
    {
     "name": "stdout",
     "output_type": "stream",
     "text": [
      "b''\n"
     ]
    }
   ],
   "source": [
    "# Deleta, se for o caso, uma pessoa.\n",
    "try:\n",
    "    conn = http.client.HTTPSConnection('idfaceapi.cognitiveservices.azure.com')\n",
    "    conn.request('DELETE', pessoa_endpoint+\"/75066b3e-ea9a-4f26-93aa-836c8a2d865c\", \"\", cabecalho) # personId\n",
    "    response = conn.getresponse()\n",
    "    jsonData = response.read()\n",
    "    print(jsonData)\n",
    "    conn.close()\n",
    "except Exception as ex:\n",
    "    print(ex)"
   ]
  },
  {
   "cell_type": "code",
   "execution_count": 22,
   "metadata": {
    "scrolled": true
   },
   "outputs": [
    {
     "name": "stdout",
     "output_type": "stream",
     "text": [
      "{'persistedFaceId': 'f456604b-a4be-4eb8-9680-6398a2aafb97'}\n",
      "{'persistedFaceId': 'e80923d6-8865-4676-84c0-d953a0ad0fc3'}\n",
      "{'persistedFaceId': '962828cd-c7aa-4cb3-b151-c17b7a04464d'}\n",
      "{'persistedFaceId': '87b74572-1190-4ecd-88de-0c5a020409db'}\n",
      "{'persistedFaceId': '002ce8d2-42df-4082-8dcb-78eebe12b667'}\n",
      "{'persistedFaceId': 'c39279d6-4fd7-4faf-b3af-3a5f3d20a198'}\n",
      "{'persistedFaceId': 'ec607745-2cb5-4ccd-b40b-b7d7d6d2ea94'}\n",
      "{'persistedFaceId': '1affc4b1-a428-4ba0-87ee-57f232596be9'}\n",
      "{'persistedFaceId': '278ca2a5-aab9-46d9-a229-5c0d1da026fd'}\n"
     ]
    }
   ],
   "source": [
    "# Associa as pessoas as faces conforme diretório e lista(person_data).\n",
    "import os\n",
    "\n",
    "face_cabecalho = {\n",
    "    'Ocp-Apim-Subscription-Key':subscription_key,\n",
    "    'Content-Type':'application/octet-stream'\n",
    "}\n",
    "\n",
    "for pessoa in pessoas_dados: # Itera as pessoas.\n",
    "    face_endpoint = '/face/v1.0/persongroups/{0}/persons/{1}/persistedFaces'.format(grupo_id, pessoa['personId'])\n",
    "    for arquivo in os.listdir('People/'+pessoa['name']): # Itera os diretórios conforme os nomes das pessoas.\n",
    "        with open('Pessoas/{0}/{1}'.format(pessoa['name'], arquivo), 'rb') as face_corpo:\n",
    "            conn = http.client.HTTPSConnection('idfaceapi.cognitiveservices.azure.com')\n",
    "            conn.request('POST', face_endpoint, face_corpo, face_cabecalho) # Associa a face a pessoa.\n",
    "            response = conn.getresponse()\n",
    "            jsonData = response.read()\n",
    "            data = json.loads(jsonData)\n",
    "            print(data)\n",
    "            conn.close()"
   ]
  },
  {
   "cell_type": "code",
   "execution_count": 24,
   "metadata": {},
   "outputs": [
    {
     "name": "stdout",
     "output_type": "stream",
     "text": [
      "[{'personId': 'ab9243d6-97bb-40a2-9ad7-7f9166fc1c71', 'persistedFaceIds': ['962828cd-c7aa-4cb3-b151-c17b7a04464d', 'e80923d6-8865-4676-84c0-d953a0ad0fc3', 'f456604b-a4be-4eb8-9680-6398a2aafb97'], 'name': 'Bill'}, {'personId': 'b36c4ad4-26d9-4f6d-860e-4d64df30174b', 'persistedFaceIds': ['002ce8d2-42df-4082-8dcb-78eebe12b667', '87b74572-1190-4ecd-88de-0c5a020409db', 'c39279d6-4fd7-4faf-b3af-3a5f3d20a198'], 'name': 'Angela'}, {'personId': 'ef263804-9976-456e-9554-2e1c39d2bde2', 'persistedFaceIds': ['1affc4b1-a428-4ba0-87ee-57f232596be9', '278ca2a5-aab9-46d9-a229-5c0d1da026fd', 'ec607745-2cb5-4ccd-b40b-b7d7d6d2ea94'], 'name': 'Elizabeth'}]\n"
     ]
    }
   ],
   "source": [
    "# Lista novamente pessoas do grupo. Observe que temos agora persistedFaceIds.\n",
    "try:\n",
    "    conn = http.client.HTTPSConnection('idfaceapi.cognitiveservices.azure.com')\n",
    "    conn.request('GET', pessoa_endpoint, \"\", cabecalho)\n",
    "    response = conn.getresponse()\n",
    "    jsonData = response.read()\n",
    "    pessoas_dados = json.loads(jsonData)\n",
    "    print(pessoas_dados)\n",
    "    conn.close()\n",
    "except Exception as ex:\n",
    "    print(ex)"
   ]
  },
  {
   "cell_type": "markdown",
   "metadata": {},
   "source": [
    "# Identificando as pessoas"
   ]
  },
  {
   "cell_type": "code",
   "execution_count": 25,
   "metadata": {},
   "outputs": [
    {
     "name": "stdout",
     "output_type": "stream",
     "text": [
      "b''\n"
     ]
    }
   ],
   "source": [
    "# Treina para o grupo de pessoas.\n",
    "treino_cabecalho = {\n",
    "    'Ocp-Apim-Subscription-Key':subscription_key\n",
    "}\n",
    "treino_endpoint = '/face/v1.0/persongroups/{0}/train'.format(grupo_id) \n",
    "\n",
    "try:\n",
    "    conn = http.client.HTTPSConnection('idfaceapi.cognitiveservices.azure.com')\n",
    "    conn.request('POST', treino_endpoint, '', treino_cabecalho)\n",
    "    response = conn.getresponse()\n",
    "    data = response.read()\n",
    "    print(data)\n",
    "    conn.close()\n",
    "except Exception as ex:\n",
    "    print(ex)"
   ]
  },
  {
   "cell_type": "code",
   "execution_count": 28,
   "metadata": {},
   "outputs": [
    {
     "name": "stdout",
     "output_type": "stream",
     "text": [
      "[{'faceId': 'da0b71e5-f740-4d2b-b9e4-f4f544d1a7ac', 'candidates': [{'personId': 'ab9243d6-97bb-40a2-9ad7-7f9166fc1c71', 'confidence': 0.71294}]}]\n"
     ]
    }
   ],
   "source": [
    "# Identifica um indivíduo a partir de uma imagem.\n",
    "identifica_endpoint = '/face/v1.0/identify'\n",
    "\n",
    "identifica_cabecalho = {\n",
    "    'Ocp-Apim-Subscription-Key':subscription_key\n",
    "}\n",
    "\n",
    "identifica_corpo = {\n",
    "    'faceIds':['da0b71e5-f740-4d2b-b9e4-f4f544d1a7ac'], # Bill Gates\n",
    "    'personGroupId':grupo_id\n",
    "}\n",
    "\n",
    "try:\n",
    "    conn = http.client.HTTPSConnection('idfaceapi.cognitiveservices.azure.com')\n",
    "    conn.request('POST', identifica_endpoint, str(identifica_corpo), identifica_cabecalho)\n",
    "    response = conn.getresponse()\n",
    "    jsonData = response.read()\n",
    "    data = json.loads(jsonData)\n",
    "    print(data)\n",
    "    conn.close()\n",
    "except Exception as ex:\n",
    "    print(ex)"
   ]
  },
  {
   "cell_type": "code",
   "execution_count": 32,
   "metadata": {},
   "outputs": [
    {
     "name": "stdout",
     "output_type": "stream",
     "text": [
      "Encontrei!\n",
      "É Bill\n"
     ]
    }
   ],
   "source": [
    "identificada_pessoa = data[0]\n",
    "encontrei = False\n",
    "for candidato in identificada_pessoa['candidates']:\n",
    "    for pessoa in pessoas_dados:\n",
    "        if(pessoa['personId'] == candidato['personId']):\n",
    "            print('Encontrei!')\n",
    "            print('É ' + pessoa['name'])\n",
    "            encontrei = True\n",
    "            \n",
    "if(encontrei == False):\n",
    "    print('Esta imagem não pode ser identificada')"
   ]
  }
 ],
 "metadata": {
  "kernelspec": {
   "display_name": "Python 3",
   "language": "python",
   "name": "python3"
  },
  "language_info": {
   "codemirror_mode": {
    "name": "ipython",
    "version": 3
   },
   "file_extension": ".py",
   "mimetype": "text/x-python",
   "name": "python",
   "nbconvert_exporter": "python",
   "pygments_lexer": "ipython3",
   "version": "3.8.5"
  }
 },
 "nbformat": 4,
 "nbformat_minor": 2
}
